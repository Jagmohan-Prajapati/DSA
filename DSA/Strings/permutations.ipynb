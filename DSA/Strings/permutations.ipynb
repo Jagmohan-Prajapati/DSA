{
 "cells": [
  {
   "cell_type": "code",
   "execution_count": 2,
   "id": "c575b39e-4999-46ac-8caa-b1b1a7e69147",
   "metadata": {},
   "outputs": [
    {
     "name": "stdin",
     "output_type": "stream",
     "text": [
      "enter a string ABC\n"
     ]
    },
    {
     "name": "stdout",
     "output_type": "stream",
     "text": [
      "ABC\n",
      "CBA\n",
      "BAC\n",
      "ACB\n",
      "BCA\n",
      "CAB\n"
     ]
    }
   ],
   "source": [
    "string=input(\"enter a string\")\n",
    "def generate_permutations(string):\n",
    "\tif len(string) == 1:\n",
    "\t\treturn [string]\n",
    "\n",
    "\tpermutations = []\n",
    "\tfor i in range(len(string)):\n",
    "\t\tfixed_char = string[i]\n",
    "\t\tremaining_chars = string[:i] + string[i+1:]\n",
    "\t\tfor perm in generate_permutations(remaining_chars):\n",
    "\t\t\tpermutations.append(fixed_char + perm)\n",
    "\n",
    "\treturn permutations\n",
    "\n",
    "permutations_list = generate_permutations(string)\n",
    "z=set(permutations_list)\n",
    "\n",
    "for perm in z:\n",
    "\tprint(perm)"
   ]
  },
  {
   "cell_type": "code",
   "execution_count": null,
   "id": "3d69307b-6334-4bb9-9a22-c03bed4142b5",
   "metadata": {},
   "outputs": [],
   "source": [
    "\n"
   ]
  }
 ],
 "metadata": {
  "kernelspec": {
   "display_name": "Python 3 (ipykernel)",
   "language": "python",
   "name": "python3"
  },
  "language_info": {
   "codemirror_mode": {
    "name": "ipython",
    "version": 3
   },
   "file_extension": ".py",
   "mimetype": "text/x-python",
   "name": "python",
   "nbconvert_exporter": "python",
   "pygments_lexer": "ipython3",
   "version": "3.11.7"
  }
 },
 "nbformat": 4,
 "nbformat_minor": 5
}
